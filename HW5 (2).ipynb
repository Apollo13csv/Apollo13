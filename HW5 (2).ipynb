{
  "nbformat": 4,
  "nbformat_minor": 0,
  "metadata": {
    "colab": {
      "name": "HW5.ipynb",
      "provenance": []
    },
    "kernelspec": {
      "name": "python3",
      "display_name": "Python 3"
    },
    "language_info": {
      "name": "python"
    }
  },
  "cells": [
    {
      "cell_type": "code",
      "metadata": {
        "id": "6TPBDzjNMf8l"
      },
      "source": [
        "import json"
      ],
      "execution_count": null,
      "outputs": []
    },
    {
      "cell_type": "code",
      "metadata": {
        "id": "zQr4Cm4JMpgb"
      },
      "source": [
        "purchases = {}\n",
        "\n",
        "with open('purchase_log.txt') as f :\n",
        "    for line in f:\n",
        "        line = line.strip()\n",
        "        dict_ = json.loads(line)\n",
        "        key=dict_['user_id']\n",
        "        value=dict_['category']\n",
        "\n",
        "        if key!='user_id':\n",
        "            purchases.setdefault(key,value)"
      ],
      "execution_count": null,
      "outputs": []
    },
    {
      "cell_type": "code",
      "metadata": {
        "id": "RyKR-LH2dMNg"
      },
      "source": [
        "with open('visit_log.csv', 'r') as f: \n",
        "       with open('funnel.csv', 'w') as w_f:\n",
        "         for row in f:\n",
        "          line_list = row.strip().split(',')\n",
        "          if line_list[0] in new_dict.keys():\n",
        "            line_list.append(new_dict[line_list[0]])\n",
        "            add_line = ','.join(line_list)\n",
        "            w_f.write(add_line + '\\n')\n",
        "          elif line_list[0] == 'user_id':\n",
        "            line_list.append('category')\n",
        "            add_line = ','.join(line_list)\n",
        "            w_f.write(add_line + '\\n')\n",
        "          else:\n",
        "            add_line = ','.join(line_list)"
      ],
      "execution_count": null,
      "outputs": []
    },
    {
      "cell_type": "code",
      "metadata": {
        "colab": {
          "base_uri": "https://localhost:8080/"
        },
        "id": "S-_cBNibl5jY",
        "outputId": "e3fad317-5a3e-4094-bd61-8e8752934da3"
      },
      "source": [
        "w_f = open('funnel.csv', 'r')\n",
        "i = 0\n",
        "for line in w_f:\n",
        "    print(line)\n",
        "    \n",
        "    i += 1\n",
        "    if i > 5:\n",
        "        break"
      ],
      "execution_count": null,
      "outputs": [
        {
          "output_type": "stream",
          "name": "stdout",
          "text": [
            "user_id,source,category\n",
            "\n",
            "1840e0b9d4,other,Продукты\n",
            "\n",
            "4e4f90fcfb,context,Электроника\n",
            "\n",
            "afea8d72fc,other,Электроника\n",
            "\n",
            "2824221f38,email,Продукты\n",
            "\n",
            "373a6055fe,other,Бытовая техника\n",
            "\n"
          ]
        }
      ]
    },
    {
      "cell_type": "code",
      "metadata": {
        "id": "AhD20QEYmdEf"
      },
      "source": [
        ""
      ],
      "execution_count": null,
      "outputs": []
    }
  ]
}