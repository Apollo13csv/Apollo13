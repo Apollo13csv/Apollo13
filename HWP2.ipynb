{
  "nbformat": 4,
  "nbformat_minor": 0,
  "metadata": {
    "colab": {
      "name": "HWP2.ipynb",
      "provenance": [],
      "collapsed_sections": []
    },
    "kernelspec": {
      "name": "python3",
      "display_name": "Python 3"
    },
    "language_info": {
      "name": "python"
    }
  },
  "cells": [
    {
      "cell_type": "markdown",
      "metadata": {
        "id": "sLa2Z6OmxSQg"
      },
      "source": [
        "Задание 1\n",
        "\n",
        "Дана переменная, в которой хранится слово из латинских букв. Напишите код, который выводит на экран:\n",
        "\n",
        "среднюю букву, если число букв в слове нечетное;\n",
        "\n",
        "две средних буквы, если число букв четное."
      ]
    },
    {
      "cell_type": "code",
      "metadata": {
        "id": "mZG27a8XxXSf",
        "colab": {
          "base_uri": "https://localhost:8080/"
        },
        "outputId": "b2d5dcfd-77d8-418f-89d7-fef185aa77a5"
      },
      "source": [
        "word ='andromeda'\n",
        "if len(word) % 2 == 0:\n",
        "    avr_word = len(word)// 2\n",
        "    print(word[len(word)//2-1:(len(word)//2)+1])\n",
        "else :\n",
        "    avr_word_2 = len(word[0:-2]) // 2\n",
        "    print(word[(len(word)//2)])"
      ],
      "execution_count": null,
      "outputs": [
        {
          "output_type": "stream",
          "text": [
            "o\n"
          ],
          "name": "stdout"
        }
      ]
    },
    {
      "cell_type": "markdown",
      "metadata": {
        "id": "uFjw9kGDEhTW"
      },
      "source": [
        "Задание 2\n",
        "\n",
        "Напишите программу, которая последовательно запрашивает у пользователя числа (по одному за раз) и после первого нуля выводит сумму всех ранее введенных чисел."
      ]
    },
    {
      "cell_type": "code",
      "metadata": {
        "id": "YkPPb9p8Ejl6",
        "colab": {
          "base_uri": "https://localhost:8080/"
        },
        "outputId": "382c7451-d315-46f6-ead9-ad2cd7c585ed"
      },
      "source": [
        "number = 0\n",
        "sum_number = 0\n",
        "count = 0\n",
        "while True:\n",
        "    trie = int(input('Введите число: '))\n",
        " \n",
        "    if trie == 0:\n",
        "        break\n",
        "    else:\n",
        "        sum_number += trie\n",
        "        count += 1\n",
        "print('сумма: ', sum_number)"
      ],
      "execution_count": null,
      "outputs": [
        {
          "output_type": "stream",
          "text": [
            "Введите число: 30\n",
            "Введите число: 60\n",
            "Введите число: 89\n",
            "Введите число: 0\n",
            "сумма:  179\n"
          ],
          "name": "stdout"
        }
      ]
    },
    {
      "cell_type": "markdown",
      "metadata": {
        "id": "OMFQHNrnLQZx"
      },
      "source": [
        "Задание 3\n",
        "\n",
        "Мы делаем MVP dating-сервиса, и у нас есть список парней и девушек.\n",
        "Выдвигаем гипотезу: лучшие рекомендации мы получим, если просто отсортируем имена по алфавиту и познакомим людей с одинаковыми индексами после сортировки! Но мы не будем никого знакомить, если кто-то может остаться без пары:"
      ]
    },
    {
      "cell_type": "code",
      "metadata": {
        "colab": {
          "base_uri": "https://localhost:8080/"
        },
        "id": "b9of7lFJ9Vvr",
        "outputId": "5139313f-582c-42c9-fba4-4be4df3dde17"
      },
      "source": [
        "boys = ['Peter', 'Alex', 'John', 'Arthur', 'Richard']\n",
        "girls = ['Kate', 'Liza', 'Kira', 'Emma', 'Trisha']\n",
        "\n",
        "if len(boys) == len(girls):\n",
        "  boys.sort() \n",
        "  girls.sort()\n",
        "  zipped = zip(boys,girls)\n",
        "  print (\"Идеальные пары: \")\n",
        "  for element in list(zipped):\n",
        "    print(element[0], '-' ,element[1])\n",
        "else:\n",
        "  print(\"Кто-то останеться без пары!\")"
      ],
      "execution_count": null,
      "outputs": [
        {
          "output_type": "stream",
          "text": [
            "Идеальные пары: \n",
            "Alex - Emma\n",
            "Arthur - Kate\n",
            "John - Kira\n",
            "Peter - Liza\n",
            "Richard - Trisha\n"
          ],
          "name": "stdout"
        }
      ]
    },
    {
      "cell_type": "markdown",
      "metadata": {
        "id": "1ybTefueAXTl"
      },
      "source": [
        "Задание 4\n",
        "\n",
        "У нас есть список, содержащий информацию о среднедневной температуре в Фаренгейтах за произвольный период по странам (структура данных в примере). Необходимо написать код, который рассчитает среднюю температуру за период в Цельсиях для каждой страны."
      ]
    },
    {
      "cell_type": "code",
      "metadata": {
        "id": "2ZS_CFWdAWkn",
        "colab": {
          "base_uri": "https://localhost:8080/"
        },
        "outputId": "04750f32-1554-4675-88d2-e59cfda2dfa7"
      },
      "source": [
        "countries_temperature = countries_temperature = [\n",
        "['Thailand', [75.2, 77, 78.8, 73.4, 68, 75.2, 77]],\n",
        "['Germany', [57.2, 55.4, 59, 59, 53.6]],\n",
        "['Russia', [35.6, 37.4, 39.2, 41, 42.8, 39.2, 35.6]],\n",
        "['Poland', [50, 50, 53.6, 57.2, 55.4, 55.4]]\n",
        "]\n",
        "\n",
        "for i in countries_temperature:\n",
        "    print(i[0], '-', round((sum(i[1]) / len(i[1]) - 32) / 1.8, 1), 'C')"
      ],
      "execution_count": null,
      "outputs": [
        {
          "output_type": "stream",
          "text": [
            "Thailand - 23.9 C\n",
            "Germany - 13.8 C\n",
            "Russia - 3.7 C\n",
            "Poland - 12.0 C\n"
          ],
          "name": "stdout"
        }
      ]
    }
  ]
}