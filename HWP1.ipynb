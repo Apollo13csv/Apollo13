{
  "nbformat": 4,
  "nbformat_minor": 0,
  "metadata": {
    "colab": {
      "name": "HWP1.ipynb",
      "provenance": [],
      "collapsed_sections": []
    },
    "kernelspec": {
      "name": "python3",
      "display_name": "Python 3"
    },
    "language_info": {
      "name": "python"
    }
  },
  "cells": [
    {
      "cell_type": "markdown",
      "metadata": {
        "id": "hWzrynoyJBg_"
      },
      "source": [
        "Задание 1\n",
        "\n",
        "Даны 2 переменных, в которых хранятся строки произвольной длины: phrase_1 и phrase_2.\n",
        "Напишите код, который проверяет какая из этих строк длиннее."
      ]
    },
    {
      "cell_type": "code",
      "metadata": {
        "colab": {
          "base_uri": "https://localhost:8080/"
        },
        "id": "6GdMMfgiImA8",
        "outputId": "df80b4c5-df43-4487-8b2d-f7e32a25d4d8"
      },
      "source": [
        "phrase_1 = 'Насколько проще было бы писать программы, если бы не заказчики'\n",
        "phrase_2 = '640Кб должно хватить для любых задач. Билл Гейтс (по легенде)'\n",
        "if len(phrase_1) < len(phrase_2):\n",
        "    print('Фраза 2 длиннее фразы 1')\n",
        "elif len(phrase_1) > len(phrase_2):\n",
        "    print('Фраза 1 длиннее фразы 2')\n",
        "else:\n",
        "    print('Фразы равной длины')"
      ],
      "execution_count": null,
      "outputs": [
        {
          "output_type": "stream",
          "text": [
            "Фраза 1 длиннее фразы 2\n"
          ],
          "name": "stdout"
        }
      ]
    },
    {
      "cell_type": "markdown",
      "metadata": {
        "id": "yZZhAyZIKpSL"
      },
      "source": [
        "Задание 2\n",
        "\n",
        "Дана переменная, в которой хранится четырехзначное число (год). Необходимо написать программу, которая выведет, является ли данный год високосным или обычным."
      ]
    },
    {
      "cell_type": "code",
      "metadata": {
        "colab": {
          "base_uri": "https://localhost:8080/"
        },
        "id": "thg-q4ztKicc",
        "outputId": "673466b8-7a3e-4d38-b2cb-e447e6d24e3a"
      },
      "source": [
        "year = 2020\n",
        "\n",
        "if year % 400 == 0:\n",
        "    print(\"високосный\")\n",
        "elif year % 100 == 0:\n",
        "    print(\"не високосный\")\n",
        "elif year % 4 == 0:\n",
        "    print(\"високосный\")\n",
        "else:\n",
        "    print(\"не високосный\")\n"
      ],
      "execution_count": null,
      "outputs": [
        {
          "output_type": "stream",
          "text": [
            "високосный\n"
          ],
          "name": "stdout"
        }
      ]
    },
    {
      "cell_type": "markdown",
      "metadata": {
        "id": "PSpiMvlVS_XU"
      },
      "source": [
        "Задание 3\n",
        "\n",
        "Необходимо написать программу, которая будет запрашивать у пользователя месяц и дату рождения и выводить соответствующий знак зодиака."
      ]
    },
    {
      "cell_type": "code",
      "metadata": {
        "colab": {
          "base_uri": "https://localhost:8080/"
        },
        "id": "1W_C6pQ6TlZX",
        "outputId": "2876b947-4586-43df-c05f-1d5ab3e02715"
      },
      "source": [
        "date = int(input('Введите день рождения '))\n",
        "\n",
        "month = int(input('Введите месяц рождения '))\n",
        "\n",
        "if (date>=21 and date<=31 and month==1) or (date>=1 and date<=18 and month==2):\n",
        "   print(\"Знак зодиака: Водолей\")\n",
        "elif (date>=19 and date<=29 and month==2) or (date>=1 and date<=20 and month==3):\n",
        "   print(\"Знак зодиака: Рыбы\")\n",
        "elif (date>=21 and date<=31 and month==3) or (date>=1 and date<=19 and month==4):\n",
        "   print(\"Знак зодиака: Овен\")\n",
        "elif (date>=20 and date<=30 and month==4) or (date>=1 and date<=20  and month==5):\n",
        "   print(\"Знак зодиака: Телец\")\n",
        "elif (date>=21 and date<=31 and month==5) or (date>=1 and date<=21 and month==6):\n",
        "   print(\"Знак зодиака: Близнецы\")\n",
        "elif (date>=22 and date<=30 and month==6) or (date>=1 and date<=22 and month==7):\n",
        "   print(\"Знак зодиака: Рак\")\n",
        "elif (date>=23 and date<=31 and month==7) or (date>=1 and date<=22 and month==8):\n",
        "   print(\"Знак зодиака: Лев\")\n",
        "elif (date>=23 and date<=31 and month==8) or (date>=1 and date<=22 and month==9):\n",
        "   print(\"Знак зодиака: Дева\")\n",
        "elif (date>=23 and date<=30 and month==9) or (date>=1 and date<=23 and month==10):\n",
        "   print(\"Знак зодиака: Весы\")\n",
        "elif (date>=24 and date<=31 and month==10) or (date>=1 and date<=22 and  month==11):\n",
        "   print(\"Знак зодиака: Скорпион\")\n",
        "elif (date>=23 and date<=30 and month==11) or (date>=1 and date<=21 and  month==12):\n",
        "   print(\"Знак зодиака: Стрелец\")\n",
        "elif (date>=22 and date<=31 and month==12) or (date>=1 and date<=20 and month==1):\n",
        "   print(\"Знак зодиака: Козерог\")"
      ],
      "execution_count": null,
      "outputs": [
        {
          "output_type": "stream",
          "text": [
            "Введите день рождения 30\n",
            "Введите месяц рождения 12\n",
            "Знак зодиака: Козерог\n"
          ],
          "name": "stdout"
        }
      ]
    },
    {
      "cell_type": "markdown",
      "metadata": {
        "id": "jtUel_FxWt0j"
      },
      "source": [
        "Задание 4\n",
        "\n",
        "Вам нужно написать программу для подбора упаковок по размерам товара. Размеры (ширина, длина, высота) хранятся в переменных (в сантиметрах):\n",
        "\n",
        "Используйте следующие правила:\n",
        "\n",
        "если каждое из трех измерений менее 15 сантиметров, то выведите на экран “Коробка №1”;\n",
        "\n",
        "если хотя бы одно из измерений больше 15 сантиметров, но менее 50 сантиметров, то выводите “Коробка №2”;\n",
        "\n",
        "если длина товара больше 2 метров, то выводите “Упаковка для лыж”;\n",
        "во всех остальных случаях выводите “Стандартная коробка №3”."
      ]
    },
    {
      "cell_type": "code",
      "metadata": {
        "colab": {
          "base_uri": "https://localhost:8080/"
        },
        "id": "pP1eUbv3Zrqz",
        "outputId": "6b3f0c2e-d523-4f71-b762-24b915fa32fa"
      },
      "source": [
        "width = int(input('Введите ширину '))\n",
        "length = int(input('Введите длину '))\n",
        "height = int(input('Введите высоту '))\n",
        "\n",
        "if (width <= 15 and length <= 15 and height <= 15):\n",
        "    print('Коробка №1')\n",
        "elif (15 < width <= 50 or 15 < length <= 50 or 15 < height <= 50):\n",
        "    print('Коробка №2')\n",
        "elif (width < 200 or length < 200 or height < 200):\n",
        "    print('Упаковка для лыж')\n",
        "else:\n",
        "    print('Стандартная коробка №3')"
      ],
      "execution_count": null,
      "outputs": [
        {
          "output_type": "stream",
          "text": [
            "Введите ширину 15\n",
            "Введите длину 210\n",
            "Введите высоту 60\n",
            "Упаковка для лыж\n"
          ],
          "name": "stdout"
        }
      ]
    }
  ]
}