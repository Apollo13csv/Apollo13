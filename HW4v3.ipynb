{
  "nbformat": 4,
  "nbformat_minor": 0,
  "metadata": {
    "colab": {
      "name": "HW4v3.ipynb",
      "provenance": [],
      "collapsed_sections": []
    },
    "kernelspec": {
      "name": "python3",
      "display_name": "Python 3"
    },
    "language_info": {
      "name": "python"
    }
  },
  "cells": [
    {
      "cell_type": "markdown",
      "metadata": {
        "id": "bmPoZz06PaVG"
      },
      "source": [
        "Задание 1\n",
        "\n",
        "Пункт 1. Пользователь по команде “p” может узнать владельца документа по его номеру"
      ]
    },
    {
      "cell_type": "code",
      "metadata": {
        "id": "LiDyMPTwhReM"
      },
      "source": [
        "documents = [\n",
        " {'type': 'passport', 'number': '2207 876234', 'name': 'Василий Гупкин'},\n",
        " {'type': 'invoice', 'number': '11-2', 'name': 'Геннадий Покемонов'},\n",
        " {'type': 'insurance', 'number': '10006', 'name': 'Аристарх Павлов'}\n",
        "]"
      ],
      "execution_count": null,
      "outputs": []
    },
    {
      "cell_type": "code",
      "metadata": {
        "colab": {
          "base_uri": "https://localhost:8080/",
          "height": 52
        },
        "id": "pxP1snSwO-Sm",
        "outputId": "a944d42b-b190-4667-c22d-5cf49f0ed637"
      },
      "source": [
        "def user_doc_num(documents):\n",
        "    input_doc_num = input('Введите номер документа: ') \n",
        "    for x in documents:  \n",
        "        if x['number'] == input_doc_num:\n",
        "          return x['name']\n",
        "    return 'Документ не найден в базе'\n",
        "\n",
        "user_doc_num(documents)\n",
        "\n",
        "#Больше не падает "
      ],
      "execution_count": null,
      "outputs": [
        {
          "name": "stdout",
          "output_type": "stream",
          "text": [
            "Введите номер документа: 32856\n"
          ]
        },
        {
          "output_type": "execute_result",
          "data": {
            "application/vnd.google.colaboratory.intrinsic+json": {
              "type": "string"
            },
            "text/plain": [
              "'Документ не найден в базе'"
            ]
          },
          "metadata": {},
          "execution_count": 54
        }
      ]
    },
    {
      "cell_type": "markdown",
      "metadata": {
        "id": "GMPPBYP-S0Uz"
      },
      "source": [
        "Пункт 2. Пользователь по команде “s” может по номеру документа узнать на какой полке он хранится"
      ]
    },
    {
      "cell_type": "code",
      "metadata": {
        "id": "0qE8wOWlQmSs"
      },
      "source": [
        "directories = {\n",
        " '1': ['2207 876234', '11-2'],\n",
        " '2': ['10006'],\n",
        " '3': []\n",
        "}"
      ],
      "execution_count": null,
      "outputs": []
    },
    {
      "cell_type": "code",
      "metadata": {
        "colab": {
          "base_uri": "https://localhost:8080/",
          "height": 52
        },
        "id": "ujFGu2tlTAdu",
        "outputId": "ea0bad96-e6f4-4182-9ff0-a5d2b9308175"
      },
      "source": [
        "def shelf(direct):\n",
        "    doc_num = input('Введите номер документа: ')\n",
        "    for k in directories:\n",
        "        if doc_num in directories[k]:\n",
        "          return k\n",
        "    return 'Документ не найден в базе'\n",
        "\n",
        "shelf(directories)"
      ],
      "execution_count": null,
      "outputs": [
        {
          "name": "stdout",
          "output_type": "stream",
          "text": [
            "Введите номер документа: 10006\n"
          ]
        },
        {
          "output_type": "execute_result",
          "data": {
            "application/vnd.google.colaboratory.intrinsic+json": {
              "type": "string"
            },
            "text/plain": [
              "'2'"
            ]
          },
          "metadata": {},
          "execution_count": 57
        }
      ]
    },
    {
      "cell_type": "markdown",
      "metadata": {
        "id": "Zo8aigjIUeZ5"
      },
      "source": [
        "Пункт 3. Пользователь по команде “l” может увидеть полную информацию по всем документам"
      ]
    },
    {
      "cell_type": "code",
      "metadata": {
        "colab": {
          "base_uri": "https://localhost:8080/"
        },
        "id": "gCwMgHiBfjB3",
        "outputId": "04731054-5d19-41cd-baff-5b33d7eb5a0b"
      },
      "source": [
        "def info(doc, direct):\n",
        "    for shelf, cont in directories.items():\n",
        "        for doc in documents:\n",
        "            if doc['number'] in cont:\n",
        "              print(f\"№: {doc['number']}, тип: {doc['type']}, владелец: {doc['name']}, полка хранения: {shelf}\")\n",
        "\n",
        "info(documents, directories)"
      ],
      "execution_count": null,
      "outputs": [
        {
          "output_type": "stream",
          "name": "stdout",
          "text": [
            "№: 2207 876234, тип: passport, владелец: Василий Гупкин, полка хранения: 1\n",
            "№: 11-2, тип: invoice, владелец: Геннадий Покемонов, полка хранения: 1\n",
            "№: 10006, тип: insurance, владелец: Аристарх Павлов, полка хранения: 2\n"
          ]
        }
      ]
    },
    {
      "cell_type": "markdown",
      "metadata": {
        "id": "giaQYzAFkPrq"
      },
      "source": [
        "Пункт 4. Пользователь по команде “ads” может добавить новую полку"
      ]
    },
    {
      "cell_type": "code",
      "metadata": {
        "colab": {
          "base_uri": "https://localhost:8080/"
        },
        "id": "bzlzT7vNmElx",
        "outputId": "c0d86af1-eda6-4f0c-f360-0b3ec863cb10"
      },
      "source": [
        "def add_shelf(direct):\n",
        "    shelf = input('Введите номер полки: ')\n",
        "    if shelf in directories:\n",
        "        print(f'Такая полка уже существует. Текущий перечень полок: {list(directories.keys())}')\n",
        "    else:\n",
        "        directories[shelf] = []\n",
        "        print(f'Полка добавлена. Текущий перечень полок: {list(directories.keys())}')\n",
        "     \n",
        "add_shelf(directories)"
      ],
      "execution_count": null,
      "outputs": [
        {
          "output_type": "stream",
          "name": "stdout",
          "text": [
            "Введите номер полки: 3\n",
            "Такая полка уже существует. Текущий перечень полок: ['1', '2', '3', '5']\n"
          ]
        }
      ]
    },
    {
      "cell_type": "markdown",
      "metadata": {
        "id": "AZ8pxiUbkUwU"
      },
      "source": [
        "Пункт 5. Пользователь по команде “ds” может удалить существующую полку из данных (только если она пустая)"
      ]
    },
    {
      "cell_type": "code",
      "metadata": {
        "colab": {
          "base_uri": "https://localhost:8080/",
          "height": 52
        },
        "id": "1eNNmA8AJacJ",
        "outputId": "44ded2a9-db6e-4b64-9f03-7b727e2eb289"
      },
      "source": [
        "def del_shelf(direct):\n",
        "    input_del_shelf = input('Введите номер полки:')\n",
        "    if input_del_shelf in directories:\n",
        "        if len(directories[input_del_shelf]) > 0:\n",
        "            return 'На полке есть документы, удалите их перед удалением полки. Текущий перечень полок: ' + ', '.join(directories.keys())\n",
        "\n",
        "        del directories[input_del_shelf]\n",
        "        return ('Полка удалена. Текущий перечень полок: ' + ', '.join(directories.keys()))\n",
        "\n",
        "    return ('Такой полки не существует. Текущий перечень полок: ' + ', '.join(directories.keys()))\n",
        "    \n",
        "del_shelf(directories)"
      ],
      "execution_count": null,
      "outputs": [
        {
          "name": "stdout",
          "output_type": "stream",
          "text": [
            "Введите номер полки:5\n"
          ]
        },
        {
          "output_type": "execute_result",
          "data": {
            "application/vnd.google.colaboratory.intrinsic+json": {
              "type": "string"
            },
            "text/plain": [
              "'Полка удалена. Текущий перечень полок: 1, 2, 3'"
            ]
          },
          "metadata": {},
          "execution_count": 63
        }
      ]
    },
    {
      "cell_type": "code",
      "metadata": {
        "id": "9UOtNEYAbV0m",
        "colab": {
          "base_uri": "https://localhost:8080/"
        },
        "outputId": "c302124c-0c36-4347-a095-7c499d712912"
      },
      "source": [
        "def commands(doc, direct):\n",
        "    while True:\n",
        "        user_input = input('Введите команду: ')\n",
        "        if user_input == 'p':\n",
        "            print('Владелец документа:', user_doc_num(documents))\n",
        "        elif user_input == 's':\n",
        "            print('Документ хранится на полке:', shelf(direct))\n",
        "        elif user_input == 'l':\n",
        "            info(doc, direct)\n",
        "        elif user_input == 'ads':\n",
        "            add_shelf(direct)\n",
        "        elif user_input == 'ds':\n",
        "            del_shelf(direct)\n",
        "        elif user_input == 'q':\n",
        "            print('Выход из программы')\n",
        "            break\n",
        "\n",
        "commands(documents, directories)"
      ],
      "execution_count": null,
      "outputs": [
        {
          "output_type": "stream",
          "name": "stdout",
          "text": [
            "Введите команду: ads\n",
            "Введите номер полки: 4\n",
            "Такая полка уже существует. Текущий перечень полок: ['1', '2', '3', '6', '4']\n",
            "Введите команду: q\n",
            "Выход из программы\n"
          ]
        }
      ]
    }
  ]
}